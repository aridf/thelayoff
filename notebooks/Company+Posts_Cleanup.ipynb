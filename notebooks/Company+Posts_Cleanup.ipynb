{
 "cells": [
  {
   "cell_type": "code",
   "execution_count": 120,
   "metadata": {},
   "outputs": [],
   "source": [
    "import os, json\n",
    "import pandas as pd\n",
    "import numpy as np"
   ]
  },
  {
   "cell_type": "code",
   "execution_count": 121,
   "metadata": {},
   "outputs": [],
   "source": [
    "path_to_json = '/Users/arun/Dropbox/thelayoff/company_jsons' \n",
    "raw_data_dir = os.path.join(path_to_json)\n",
    "files = os.listdir(raw_data_dir)\n",
    "#files[0]"
   ]
  },
  {
   "cell_type": "code",
   "execution_count": 122,
   "metadata": {},
   "outputs": [
    {
     "name": "stdout",
     "output_type": "stream",
     "text": [
      ".DS_Store\n"
     ]
    }
   ],
   "source": [
    "df = pd.DataFrame()\n",
    "\n",
    "def process_file(d, files):\n",
    "    total_dict = {\"Name:\": [], \"Industry/Area of Activity:\": [], \"Company Stock Ticker:\": [], \"Stock traded at:\": [],\"Industry Code:\":[], \"url\": []}\n",
    "    \n",
    "    for i in range(len(files)):\n",
    "        filepath = os.path.join(d, files[i])\n",
    "        with open(filepath, encoding=\"utf-8\") as json_file:\n",
    "            try:\n",
    "                data = json.load(json_file) #company data into dict\n",
    "            except:\n",
    "                print(files[i])\n",
    "            \n",
    "            list_of_cols = [\"Industry/Area of Activity:\",\"Company Stock Ticker:\", \"Stock traded at:\",\"Industry Code:\",\"url\"]\n",
    "            \n",
    "            \n",
    "            for element in list_of_cols:\n",
    "                if(element in data.keys()):\n",
    "                    total_dict[element].extend(data[element])\n",
    "                else:\n",
    "                    total_dict[element].extend([\"N/A\"])\n",
    "            \n",
    "            total_dict[\"Name:\"].extend([files[i][:-5]])\n",
    "            \n",
    "                    \n",
    "    return (total_dict)\n",
    "\n",
    "data = process_file(path_to_json, files)\n",
    "#print(data)"
   ]
  },
  {
   "cell_type": "code",
   "execution_count": 123,
   "metadata": {},
   "outputs": [],
   "source": [
    "df = pd.DataFrame.from_dict(data)\n",
    "#df.head()"
   ]
  },
  {
   "cell_type": "code",
   "execution_count": 124,
   "metadata": {},
   "outputs": [
    {
     "data": {
      "text/plain": [
       "Local and State Government, education and hospitals ||| School Districts    12544\n",
       "Health-Care Providers // Acute Care Hospitals                                3366\n",
       "County government employeer.                                                 3075\n",
       "Higher education, colleges and universities.                                 1670\n",
       "Health-Care Providers // Critical Access Hospitals                           1336\n",
       "                                                                            ...  \n",
       "Companies on the Energy Service//Water Utilities                                1\n",
       "Retailers: Broad Line & Apparel; Department Stores                              1\n",
       "Banks / Financial Services                                                      1\n",
       "Industrials // Industrials, Industrial Suppliers                                1\n",
       "Autos & Auto Par                                                                1\n",
       "Name: Industry/Area of Activity:, Length: 475, dtype: int64"
      ]
     },
     "execution_count": 124,
     "metadata": {},
     "output_type": "execute_result"
    }
   ],
   "source": [
    "df[\"Industry/Area of Activity:\"].value_counts()"
   ]
  },
  {
   "cell_type": "code",
   "execution_count": 125,
   "metadata": {},
   "outputs": [
    {
     "data": {
      "text/plain": [
       "N/A                        18218\n",
       "Not applicable             10549\n",
       "NASDAQ                      3753\n",
       "NYSE                        2760\n",
       "Toronto Stock Exchange       995\n",
       "                           ...  \n",
       "Copenhagen                     1\n",
       "Sarajevo Stock Exchange        1\n",
       "OSE                            1\n",
       "STO                            1\n",
       "NYSE American                  1\n",
       "Name: Stock traded at:, Length: 73, dtype: int64"
      ]
     },
     "execution_count": 125,
     "metadata": {},
     "output_type": "execute_result"
    }
   ],
   "source": [
    "df[\"Stock traded at:\"].value_counts()"
   ]
  },
  {
   "cell_type": "code",
   "execution_count": 126,
   "metadata": {},
   "outputs": [
    {
     "data": {
      "text/plain": [
       "N/A     29863\n",
       "BNS         3\n",
       "WB          3\n",
       "AM          3\n",
       "PTI         3\n",
       "        ...  \n",
       "BIOS        1\n",
       "VALU        1\n",
       "FISV        1\n",
       "CNO         1\n",
       "SMI         1\n",
       "Name: Company Stock Ticker:, Length: 7293, dtype: int64"
      ]
     },
     "execution_count": 126,
     "metadata": {},
     "output_type": "execute_result"
    }
   ],
   "source": [
    "df[\"Company Stock Ticker:\"].value_counts()"
   ]
  },
  {
   "cell_type": "code",
   "execution_count": 127,
   "metadata": {},
   "outputs": [
    {
     "data": {
      "text/plain": [
       "Local and State Government, education and hospitals ||| School Districts    12544\n",
       "Health-Care Providers // Acute Care Hospitals                                3366\n",
       "County government employeer.                                                 3075\n",
       "Higher education, colleges and universities.                                 1670\n",
       "Health-Care Providers // Critical Access Hospitals                           1336\n",
       "N/A                                                                          1135\n",
       "Local and State Government, excluding education and hospitals                 984\n",
       "Information Technology Services                                               543\n",
       "Banks                                                                         507\n",
       "Management and Business Services                                              496\n",
       "Contracting, Building and Construction                                        396\n",
       "Good production, manufacturing                                                331\n",
       "Advertising, Marketing, Ads, Promotion and Online Advertising                 330\n",
       "Software                                                                      269\n",
       "Software, Programming, Code development and services                          255\n",
       "Advertising & Publishing                                                      239\n",
       "Business & Industrial Services                                                235\n",
       "Electronic & Electrical Equipment                                             234\n",
       "Oil & Gas Producers                                                           228\n",
       "Medical Equipment & Supplies                                                  227\n",
       "Name: Industry/Area of Activity:, dtype: int64"
      ]
     },
     "execution_count": 127,
     "metadata": {},
     "output_type": "execute_result"
    },
    {
     "data": {
      "image/png": "[encoded data removed]",
      "text/plain": [
       "<Figure size 432x288 with 1 Axes>"
      ]
     },
     "metadata": {
      "needs_background": "light"
     },
     "output_type": "display_data"
    }
   ],
   "source": [
    "temp = df[\"Industry/Area of Activity:\"].value_counts()\n",
    "temp = temp.head(20)\n",
    "temp.plot(kind = \"bar\")\n",
    "temp"
   ]
  },
  {
   "cell_type": "code",
   "execution_count": 128,
   "metadata": {},
   "outputs": [
    {
     "data": {
      "text/plain": [
       "N/A                       18218\n",
       "Not applicable            10549\n",
       "NASDAQ                     3753\n",
       "NYSE                       2760\n",
       "Toronto Stock Exchange      995\n",
       "AMEX                        519\n",
       "NCM                         487\n",
       "XNYS                         33\n",
       "XNAS                         13\n",
       "LSE                          10\n",
       "TYO                           9\n",
       "Euronext                      8\n",
       "FWB                           6\n",
       "n/a                           5\n",
       "Private Company               5\n",
       "LON                           4\n",
       "NYSE AMERICAN                 4\n",
       "TBD                           4\n",
       "BIT                           3\n",
       "Not Applicable                3\n",
       "Name: Stock traded at:, dtype: int64"
      ]
     },
     "execution_count": 128,
     "metadata": {},
     "output_type": "execute_result"
    },
    {
     "data": {
      "image/png": "[encoded data removed]",
      "text/plain": [
       "<Figure size 432x288 with 1 Axes>"
      ]
     },
     "metadata": {
      "needs_background": "light"
     },
     "output_type": "display_data"
    }
   ],
   "source": [
    "temp = df[\"Stock traded at:\"].value_counts()\n",
    "temp = temp.head(20)\n",
    "temp.plot(kind = \"bar\")\n",
    "temp"
   ]
  },
  {
   "cell_type": "code",
   "execution_count": 129,
   "metadata": {},
   "outputs": [
    {
     "data": {
      "text/plain": [
       "N/A                                                              12724\n",
       "z981198                                                          12544\n",
       "z4532                                                             4801\n",
       "611310                                                            1158\n",
       "8355                                                               507\n",
       "                                                                 ...  \n",
       "Local and State Government, excluding education and hospitals        1\n",
       "8422                                                                 1\n",
       "9866                                                                 1\n",
       "1751                                                                 1\n",
       "8726                                                                 1\n",
       "Name: Industry Code:, Length: 160, dtype: int64"
      ]
     },
     "execution_count": 129,
     "metadata": {},
     "output_type": "execute_result"
    }
   ],
   "source": [
    "df[\"Industry Code:\"].value_counts()"
   ]
  },
  {
   "cell_type": "code",
   "execution_count": 130,
   "metadata": {},
   "outputs": [],
   "source": [
    "#check for N/A cleanup & add industry codes\n",
    "#upload dataframe to dropbox\n",
    "\n",
    "\n",
    "#distribution of industries across posts -> check which are traded where\n",
    "\n",
    "#run a descriptive notebook with data from companies with top posts\n",
    "#count number of companies in each industry with 10 or more posts & 100 or more words & stock ticker\n",
    "    #check which ones are traded on what the stock exchange\n"
   ]
  },
  {
   "cell_type": "code",
   "execution_count": 12,
   "metadata": {},
   "outputs": [],
   "source": [
    "df.to_csv('/Users/arun/Dropbox/thelayoff/company_posts.csv' )"
   ]
  },
  {
   "cell_type": "code",
   "execution_count": 131,
   "metadata": {},
   "outputs": [],
   "source": [
    "#post_data = pd.read_csv('/Users/arun/Dropbox/thelayoff/all_posts.txt', delimiter = \"\\t\")\n",
    "#post_data.head()"
   ]
  },
  {
   "cell_type": "code",
   "execution_count": 132,
   "metadata": {},
   "outputs": [],
   "source": [
    "post_path_to_json = '/Users/arun/Dropbox/thelayoff/post_jsons' \n",
    "post_raw_data_dir = os.path.join(post_path_to_json)\n",
    "post_files = os.listdir(post_raw_data_dir)\n",
    "#print(post_files)\n",
    "\n",
    "#pipeline post data"
   ]
  },
  {
   "cell_type": "code",
   "execution_count": 133,
   "metadata": {},
   "outputs": [
    {
     "name": "stdout",
     "output_type": "stream",
     "text": [
      "all_posts.txt\n"
     ]
    },
    {
     "data": {
      "text/html": [
       "<div>\n",
       "<style scoped>\n",
       "    .dataframe tbody tr th:only-of-type {\n",
       "        vertical-align: middle;\n",
       "    }\n",
       "\n",
       "    .dataframe tbody tr th {\n",
       "        vertical-align: top;\n",
       "    }\n",
       "\n",
       "    .dataframe thead th {\n",
       "        text-align: right;\n",
       "    }\n",
       "</style>\n",
       "<table border=\"1\" class=\"dataframe\">\n",
       "  <thead>\n",
       "    <tr style=\"text-align: right;\">\n",
       "      <th></th>\n",
       "      <th>company</th>\n",
       "    </tr>\n",
       "  </thead>\n",
       "  <tbody>\n",
       "    <tr>\n",
       "      <th>0</th>\n",
       "      <td>https://www.thelayoff.com/symantec</td>\n",
       "    </tr>\n",
       "    <tr>\n",
       "      <th>1</th>\n",
       "      <td>https://www.thelayoff.com/at-and-t</td>\n",
       "    </tr>\n",
       "    <tr>\n",
       "      <th>2</th>\n",
       "      <td>https://www.thelayoff.com/intel</td>\n",
       "    </tr>\n",
       "    <tr>\n",
       "      <th>3</th>\n",
       "      <td>https://www.thelayoff.com/bank-of-america</td>\n",
       "    </tr>\n",
       "    <tr>\n",
       "      <th>4</th>\n",
       "      <td>https://www.thelayoff.com/international-busine...</td>\n",
       "    </tr>\n",
       "  </tbody>\n",
       "</table>\n",
       "</div>"
      ],
      "text/plain": [
       "                                             company\n",
       "0                 https://www.thelayoff.com/symantec\n",
       "1                 https://www.thelayoff.com/at-and-t\n",
       "2                    https://www.thelayoff.com/intel\n",
       "3          https://www.thelayoff.com/bank-of-america\n",
       "4  https://www.thelayoff.com/international-busine..."
      ]
     },
     "execution_count": 133,
     "metadata": {},
     "output_type": "execute_result"
    }
   ],
   "source": [
    "post_df = pd.DataFrame()\n",
    "\n",
    "def post_process_file(d, files):\n",
    "    total_dict = {\"company\": []}\n",
    "    \n",
    "    for i in range(len(files)):\n",
    "        filepath = os.path.join(d, files[i])\n",
    "        with open(filepath, encoding=\"utf-8\") as json_file:\n",
    "            try:\n",
    "                data = json.load(json_file) #post data into dict\n",
    "            except:\n",
    "                print(files[i])\n",
    "            \n",
    "            list_of_cols = [\"company\"]\n",
    "            \n",
    "            \n",
    "            for element in list_of_cols:\n",
    "                if(element in data.keys()):\n",
    "                    total_dict[element].extend(data[element])\n",
    "                else:\n",
    "                    total_dict[element].extend([\"N/A\"])\n",
    "                              \n",
    "    return (total_dict)\n",
    "\n",
    "post_data = post_process_file(post_path_to_json, post_files)\n",
    "post_df = pd.DataFrame.from_dict(post_data)\n",
    "post_df.head()\n",
    "\n",
    "\n",
    "#put post data into dataframe just looking at how many times a company was mentioned"
   ]
  },
  {
   "cell_type": "code",
   "execution_count": 134,
   "metadata": {},
   "outputs": [
    {
     "data": {
      "text/plain": [
       "https://www.thelayoff.com/corinthian-colleges                9206\n",
       "https://www.thelayoff.com/at-and-t                           8714\n",
       "https://www.thelayoff.com/qualcomm                           8602\n",
       "https://www.thelayoff.com/intel                              7676\n",
       "https://www.thelayoff.com/university-phoenix                 6649\n",
       "https://www.thelayoff.com/verizon-communications             5846\n",
       "https://www.thelayoff.com/baker-hughes                       4992\n",
       "https://www.thelayoff.com/chesapeake-energy                  4976\n",
       "https://www.thelayoff.com/sears-holdings                     4638\n",
       "https://www.thelayoff.com/sams-club                          4231\n",
       "https://www.thelayoff.com/oracle                             3912\n",
       "https://www.thelayoff.com/chevron                            3432\n",
       "https://www.thelayoff.com/honeywell-international            3250\n",
       "https://www.thelayoff.com/follett                            3218\n",
       "https://www.thelayoff.com/international-business-machines    3197\n",
       "https://www.thelayoff.com/cisco-systems                      3173\n",
       "https://www.thelayoff.com/conocophillips                     3026\n",
       "https://www.thelayoff.com/target                             3006\n",
       "https://www.thelayoff.com/whole-foods-market                 2950\n",
       "https://www.thelayoff.com/halliburton                        2864\n",
       "https://www.thelayoff.com/wells-fargo-and                    2827\n",
       "https://www.thelayoff.com/dynegy                             2782\n",
       "https://www.thelayoff.com/union-pacific                      2767\n",
       "https://www.thelayoff.com/weatherford-international          2749\n",
       "https://www.thelayoff.com/schlumberger                       2673\n",
       "https://www.thelayoff.com/l-3-communications-holdings        2643\n",
       "https://www.thelayoff.com/lowe-s-cos                         2486\n",
       "https://www.thelayoff.com/general-electric                   2476\n",
       "https://www.thelayoff.com/national-oilwell-varco             2342\n",
       "https://www.thelayoff.com/wal-mart-stores                    2290\n",
       "Name: company, dtype: int64"
      ]
     },
     "execution_count": 134,
     "metadata": {},
     "output_type": "execute_result"
    }
   ],
   "source": [
    "post_counts = post_df[\"company\"].value_counts()\n",
    "post_counts.head(30)\n",
    "\n",
    "#company post frequency check"
   ]
  },
  {
   "cell_type": "code",
   "execution_count": 135,
   "metadata": {},
   "outputs": [
    {
     "name": "stdout",
     "output_type": "stream",
     "text": [
      "                                       Companies  Post Count\n",
      "0  https://www.thelayoff.com/corinthian-colleges        9206\n",
      "1             https://www.thelayoff.com/at-and-t        8714\n",
      "2             https://www.thelayoff.com/qualcomm        8602\n",
      "3                https://www.thelayoff.com/intel        7676\n",
      "4   https://www.thelayoff.com/university-phoenix        6649\n"
     ]
    }
   ],
   "source": [
    "#type(post_counts.keys()[0])\n",
    "count = 0\n",
    "post_clean = pd.DataFrame()\n",
    "tempKeys = []\n",
    "temp = []\n",
    "for i in range(len(post_counts)):\n",
    "    if(post_counts[i]>10):\n",
    "        count=count+1\n",
    "        tempKeys.append(post_counts.keys()[i])\n",
    "        temp.append(post_counts[i])\n",
    "        #print(post_counts.keys()[i])\n",
    "        \n",
    "post_clean[\"Companies\"] = tempKeys\n",
    "post_clean[\"Post Count\"] = temp\n",
    "print(post_clean.head())\n",
    "\n",
    "#companies with 10 or more posts check"
   ]
  },
  {
   "cell_type": "code",
   "execution_count": 136,
   "metadata": {},
   "outputs": [
    {
     "data": {
      "text/html": [
       "<div>\n",
       "<style scoped>\n",
       "    .dataframe tbody tr th:only-of-type {\n",
       "        vertical-align: middle;\n",
       "    }\n",
       "\n",
       "    .dataframe tbody tr th {\n",
       "        vertical-align: top;\n",
       "    }\n",
       "\n",
       "    .dataframe thead th {\n",
       "        text-align: right;\n",
       "    }\n",
       "</style>\n",
       "<table border=\"1\" class=\"dataframe\">\n",
       "  <thead>\n",
       "    <tr style=\"text-align: right;\">\n",
       "      <th></th>\n",
       "      <th>Companies</th>\n",
       "      <th>Post Count</th>\n",
       "      <th>Company Stock Ticker:</th>\n",
       "      <th>Stock traded at:</th>\n",
       "      <th>Industry/Area of Activity:</th>\n",
       "    </tr>\n",
       "  </thead>\n",
       "  <tbody>\n",
       "    <tr>\n",
       "      <th>0</th>\n",
       "      <td>https://www.thelayoff.com/corinthian-colleges</td>\n",
       "      <td>9206</td>\n",
       "      <td>COCO</td>\n",
       "      <td>NASDAQ</td>\n",
       "      <td>Specialty Retailers &amp; Services</td>\n",
       "    </tr>\n",
       "    <tr>\n",
       "      <th>1</th>\n",
       "      <td>https://www.thelayoff.com/at-and-t</td>\n",
       "      <td>8714</td>\n",
       "      <td>T</td>\n",
       "      <td>NYSE</td>\n",
       "      <td>Telecommunications: Fixed Line and Wireless</td>\n",
       "    </tr>\n",
       "    <tr>\n",
       "      <th>2</th>\n",
       "      <td>https://www.thelayoff.com/qualcomm</td>\n",
       "      <td>8602</td>\n",
       "      <td>QCOM</td>\n",
       "      <td>NASDAQ</td>\n",
       "      <td>Telecommunications Equipment</td>\n",
       "    </tr>\n",
       "    <tr>\n",
       "      <th>3</th>\n",
       "      <td>https://www.thelayoff.com/intel</td>\n",
       "      <td>7676</td>\n",
       "      <td>INTC</td>\n",
       "      <td>XNAS</td>\n",
       "      <td>Semiconductors</td>\n",
       "    </tr>\n",
       "    <tr>\n",
       "      <th>4</th>\n",
       "      <td>https://www.thelayoff.com/university-phoenix</td>\n",
       "      <td>6649</td>\n",
       "      <td>N/A</td>\n",
       "      <td>Not applicable</td>\n",
       "      <td>Higher education, colleges and universities.</td>\n",
       "    </tr>\n",
       "    <tr>\n",
       "      <th>5</th>\n",
       "      <td>https://www.thelayoff.com/verizon-communications</td>\n",
       "      <td>5846</td>\n",
       "      <td>VZ</td>\n",
       "      <td>NYSE</td>\n",
       "      <td>Telecommunications</td>\n",
       "    </tr>\n",
       "    <tr>\n",
       "      <th>6</th>\n",
       "      <td>https://www.thelayoff.com/baker-hughes</td>\n",
       "      <td>4992</td>\n",
       "      <td>BHGE</td>\n",
       "      <td>NYSE</td>\n",
       "      <td>Oil Equipment, Services &amp; Distribution</td>\n",
       "    </tr>\n",
       "    <tr>\n",
       "      <th>7</th>\n",
       "      <td>https://www.thelayoff.com/chesapeake-energy</td>\n",
       "      <td>4976</td>\n",
       "      <td>CHK</td>\n",
       "      <td>NYSE</td>\n",
       "      <td>Oil &amp; Gas Producers</td>\n",
       "    </tr>\n",
       "    <tr>\n",
       "      <th>8</th>\n",
       "      <td>https://www.thelayoff.com/sears-holdings</td>\n",
       "      <td>4638</td>\n",
       "      <td>SHLD</td>\n",
       "      <td>NASDAQ</td>\n",
       "      <td>Retailers: Broad Line &amp; Apparel</td>\n",
       "    </tr>\n",
       "    <tr>\n",
       "      <th>9</th>\n",
       "      <td>https://www.thelayoff.com/sams-club</td>\n",
       "      <td>4231</td>\n",
       "      <td>N/A</td>\n",
       "      <td>N/A</td>\n",
       "      <td>Retailers: Broad Line &amp; Apparel</td>\n",
       "    </tr>\n",
       "    <tr>\n",
       "      <th>10</th>\n",
       "      <td>https://www.thelayoff.com/oracle</td>\n",
       "      <td>3912</td>\n",
       "      <td>ORCL</td>\n",
       "      <td>NYSE</td>\n",
       "      <td>Software</td>\n",
       "    </tr>\n",
       "    <tr>\n",
       "      <th>11</th>\n",
       "      <td>https://www.thelayoff.com/chevron</td>\n",
       "      <td>3432</td>\n",
       "      <td>CVX</td>\n",
       "      <td>NYSE</td>\n",
       "      <td>Oil &amp; Gas Producers</td>\n",
       "    </tr>\n",
       "    <tr>\n",
       "      <th>12</th>\n",
       "      <td>https://www.thelayoff.com/honeywell-international</td>\n",
       "      <td>3250</td>\n",
       "      <td>HON</td>\n",
       "      <td>NYSE</td>\n",
       "      <td>General Industrials</td>\n",
       "    </tr>\n",
       "    <tr>\n",
       "      <th>13</th>\n",
       "      <td>https://www.thelayoff.com/follett</td>\n",
       "      <td>3218</td>\n",
       "      <td>N/A</td>\n",
       "      <td>Not applicable</td>\n",
       "      <td>Specialty Retail, Other</td>\n",
       "    </tr>\n",
       "    <tr>\n",
       "      <th>14</th>\n",
       "      <td>https://www.thelayoff.com/international-busine...</td>\n",
       "      <td>3197</td>\n",
       "      <td>IBM</td>\n",
       "      <td>XNYS</td>\n",
       "      <td>Internet &amp; Computer Services</td>\n",
       "    </tr>\n",
       "    <tr>\n",
       "      <th>15</th>\n",
       "      <td>https://www.thelayoff.com/cisco-systems</td>\n",
       "      <td>3173</td>\n",
       "      <td>CSCO</td>\n",
       "      <td>XNAS</td>\n",
       "      <td>Telecommunications Equipment</td>\n",
       "    </tr>\n",
       "    <tr>\n",
       "      <th>16</th>\n",
       "      <td>https://www.thelayoff.com/conocophillips</td>\n",
       "      <td>3026</td>\n",
       "      <td>COP</td>\n",
       "      <td>XNYS</td>\n",
       "      <td>Oil &amp; Gas Producers</td>\n",
       "    </tr>\n",
       "    <tr>\n",
       "      <th>17</th>\n",
       "      <td>https://www.thelayoff.com/target</td>\n",
       "      <td>3006</td>\n",
       "      <td>TGT</td>\n",
       "      <td>NYSE</td>\n",
       "      <td>Retailers: Broad Line &amp; Apparel</td>\n",
       "    </tr>\n",
       "    <tr>\n",
       "      <th>18</th>\n",
       "      <td>https://www.thelayoff.com/whole-foods-market</td>\n",
       "      <td>2950</td>\n",
       "      <td>WFM</td>\n",
       "      <td>NASDAQ</td>\n",
       "      <td>Consumer Services // Food and Food Products, ...</td>\n",
       "    </tr>\n",
       "    <tr>\n",
       "      <th>19</th>\n",
       "      <td>https://www.thelayoff.com/halliburton</td>\n",
       "      <td>2864</td>\n",
       "      <td>HAL</td>\n",
       "      <td>NYSE</td>\n",
       "      <td>Oil Equipment, Services &amp; Distribution</td>\n",
       "    </tr>\n",
       "  </tbody>\n",
       "</table>\n",
       "</div>"
      ],
      "text/plain": [
       "                                            Companies  Post Count  \\\n",
       "0       https://www.thelayoff.com/corinthian-colleges        9206   \n",
       "1                  https://www.thelayoff.com/at-and-t        8714   \n",
       "2                  https://www.thelayoff.com/qualcomm        8602   \n",
       "3                     https://www.thelayoff.com/intel        7676   \n",
       "4        https://www.thelayoff.com/university-phoenix        6649   \n",
       "5    https://www.thelayoff.com/verizon-communications        5846   \n",
       "6              https://www.thelayoff.com/baker-hughes        4992   \n",
       "7         https://www.thelayoff.com/chesapeake-energy        4976   \n",
       "8            https://www.thelayoff.com/sears-holdings        4638   \n",
       "9                 https://www.thelayoff.com/sams-club        4231   \n",
       "10                   https://www.thelayoff.com/oracle        3912   \n",
       "11                  https://www.thelayoff.com/chevron        3432   \n",
       "12  https://www.thelayoff.com/honeywell-international        3250   \n",
       "13                  https://www.thelayoff.com/follett        3218   \n",
       "14  https://www.thelayoff.com/international-busine...        3197   \n",
       "15            https://www.thelayoff.com/cisco-systems        3173   \n",
       "16           https://www.thelayoff.com/conocophillips        3026   \n",
       "17                   https://www.thelayoff.com/target        3006   \n",
       "18       https://www.thelayoff.com/whole-foods-market        2950   \n",
       "19              https://www.thelayoff.com/halliburton        2864   \n",
       "\n",
       "   Company Stock Ticker: Stock traded at:  \\\n",
       "0                   COCO           NASDAQ   \n",
       "1                      T             NYSE   \n",
       "2                   QCOM           NASDAQ   \n",
       "3                   INTC             XNAS   \n",
       "4                    N/A   Not applicable   \n",
       "5                     VZ             NYSE   \n",
       "6                   BHGE             NYSE   \n",
       "7                    CHK             NYSE   \n",
       "8                   SHLD           NASDAQ   \n",
       "9                    N/A              N/A   \n",
       "10                  ORCL             NYSE   \n",
       "11                   CVX             NYSE   \n",
       "12                   HON             NYSE   \n",
       "13                   N/A   Not applicable   \n",
       "14                   IBM             XNYS   \n",
       "15                  CSCO             XNAS   \n",
       "16                   COP             XNYS   \n",
       "17                   TGT             NYSE   \n",
       "18                   WFM           NASDAQ   \n",
       "19                   HAL             NYSE   \n",
       "\n",
       "                           Industry/Area of Activity:  \n",
       "0                      Specialty Retailers & Services  \n",
       "1         Telecommunications: Fixed Line and Wireless  \n",
       "2                        Telecommunications Equipment  \n",
       "3                                     Semiconductors   \n",
       "4        Higher education, colleges and universities.  \n",
       "5                                  Telecommunications  \n",
       "6              Oil Equipment, Services & Distribution  \n",
       "7                                 Oil & Gas Producers  \n",
       "8                     Retailers: Broad Line & Apparel  \n",
       "9                     Retailers: Broad Line & Apparel  \n",
       "10                                           Software  \n",
       "11                                Oil & Gas Producers  \n",
       "12                                General Industrials  \n",
       "13                            Specialty Retail, Other  \n",
       "14                       Internet & Computer Services  \n",
       "15                       Telecommunications Equipment  \n",
       "16                                Oil & Gas Producers  \n",
       "17                    Retailers: Broad Line & Apparel  \n",
       "18   Consumer Services // Food and Food Products, ...  \n",
       "19             Oil Equipment, Services & Distribution  "
      ]
     },
     "execution_count": 136,
     "metadata": {},
     "output_type": "execute_result"
    }
   ],
   "source": [
    "ticker = []\n",
    "exchange = []\n",
    "industry = []\n",
    "\n",
    "for i in range(len(post_clean)):\n",
    "    c = post_clean.iloc[i][\"Companies\"]\n",
    "    ticker.append(df.loc[df[\"url\"] == c][\"Company Stock Ticker:\"].to_string(index=False))\n",
    "    exchange.append(df.loc[df[\"url\"] == c][\"Stock traded at:\"].to_string(index=False))\n",
    "    industry.append(df.loc[df[\"url\"] == c][\"Industry/Area of Activity:\"].to_string(index=False))\n",
    "    \n",
    "post_clean[\"Company Stock Ticker:\"] = ticker\n",
    "post_clean[\"Stock traded at:\"] = exchange\n",
    "post_clean[\"Industry/Area of Activity:\"] = industry\n",
    "post_clean.head(20)\n",
    "\n",
    "#add stock ticker/exchange/industry to cleaned dataframe"
   ]
  },
  {
   "cell_type": "code",
   "execution_count": 137,
   "metadata": {},
   "outputs": [],
   "source": [
    "post_clean.to_csv('/Users/arun/Dropbox/thelayoff/post_clean.csv')"
   ]
  },
  {
   "cell_type": "code",
   "execution_count": null,
   "metadata": {},
   "outputs": [],
   "source": []
  }
 ],
 "metadata": {
  "kernelspec": {
   "display_name": "Python 3",
   "language": "python",
   "name": "python3"
  },
  "language_info": {
   "codemirror_mode": {
    "name": "ipython",
    "version": 3
   },
   "file_extension": ".py",
   "mimetype": "text/x-python",
   "name": "python",
   "nbconvert_exporter": "python",
   "pygments_lexer": "ipython3",
   "version": "3.8.5"
  }
 },
 "nbformat": 4,
 "nbformat_minor": 4
}
